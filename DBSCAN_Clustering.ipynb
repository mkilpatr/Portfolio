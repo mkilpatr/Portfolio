{
 "cells": [
  {
   "cell_type": "code",
   "execution_count": 1,
   "id": "98f1cc20-49fe-4bb7-a315-70a2e3f3494b",
   "metadata": {},
   "outputs": [],
   "source": [
    "import sys\n",
    "sys.path.append('..')\n",
    "from pathlib import Path\n",
    "import numpy as np\n",
    "import os\n",
    "import matplotlib.pyplot as plt\n",
    "import scipy\n",
    "from utils.format_grid import fill_data, cut_data, slice_data, radius_calc\n",
    "from scipy import stats\n",
    "import numpy as np\n",
    "from sklearn.cluster import DBSCAN\n",
    "from sklearn import metrics"
   ]
  },
  {
   "cell_type": "code",
   "execution_count": 2,
   "id": "7ea6187a-bc7d-47e7-8bf2-3afbd857cd79",
   "metadata": {},
   "outputs": [
    {
     "name": "stdout",
     "output_type": "stream",
     "text": [
      "al_rings\n"
     ]
    }
   ],
   "source": [
    "sample = 'al_rings'\n",
    "isNew = True\n",
    "which_cut = 'isNew' if isNew else 'isBoaz'\n",
    "\n",
    "samples = {'lifeo': ('LiFeO 43380', '/home/vagrant/jupyter/NDViz/mkilpatr/LiFeO/300K/43380/binned.npz'),\n",
    "           'al_rings': ('Aluminum 47829', '/home/vagrant/jupyter/StaffScratch/mkilpatr/data/Aluminum/10K/rings/47829/binned.npz'),\n",
    "           'background': ('Background', '/home/vagrant/jupyter/StaffScratch/mkilpatr/data/Aluminum/10K/no_rings/47378/binned.npz'),\n",
    "           'al_high_intensity': ('High Intensity Aluminum 48344', '/home/vagrant/jupyter/StaffScratch/mkilpatr/data/Aluminum/10K/high_intensity/48344/binned.npz'),\n",
    "           'bragg_no_rings': ('Silicon 39362', '/home/vagrant/jupyter/NDViz/mkilpatr/Silicon/300K/39362/binned.npz'),\n",
    "           'benzil': ('Benzil 23544', '/home/vagrant/jupyter/NDViz/mkilpatr/Benzil/300K/23544/binned.npz'),\n",
    "           'Cyclosporine': ('Cyclosporine 42580', '/home/vagrant/jupyter/NDViz/mkilpatr/Cyclosporine/300K/42580/binned.npz')}\n",
    "\n",
    "Path(os.path.join(sample, which_cut)).mkdir(parents = True, exist_ok = True)\n",
    "# Error message about BPM run 19 is expected because there is no valid data in that run\n",
    "print(sample)"
   ]
  },
  {
   "cell_type": "code",
   "execution_count": 3,
   "id": "4f680ba6-4898-4a0d-a1e4-472187db030f",
   "metadata": {},
   "outputs": [],
   "source": [
    "data_ = np.load(samples[sample][1])"
   ]
  },
  {
   "cell_type": "code",
   "execution_count": 4,
   "id": "f40b62d3-94cc-4a41-83cf-328752471017",
   "metadata": {},
   "outputs": [],
   "source": [
    "def fillData(data_, normMax = False, normAlPeak = False, radius = False):\n",
    "    axis_label = {'x': 0, 'y': 1, 'z': 2, 'weight': 3}\n",
    "    \n",
    "    array = np.zeros(shape=(data_[data_.files[0]].shape[0], 0))\n",
    "    for i in data_.files:\n",
    "        array = np.column_stack((array, data_[i]))\n",
    "        \n",
    "    if normMax:\n",
    "        w = np.log(array[:, 3] + 1)\n",
    "        norm = w / np.max(w)\n",
    "        array = np.column_stack((array, norm))\n",
    "        axis_label['normMax'] = array.shape[1] - 1\n",
    "        \n",
    "    if normAlPeak:\n",
    "        w = np.log(array[:, 3] + 1)\n",
    "        hist, bins = np.histogram(w, bins = 500)\n",
    "        xvalAl = bins[np.where(hist == hist.max())]\n",
    "        w = w/xvalAl\n",
    "        array = np.column_stack((array, w))\n",
    "        axis_label['normAlPeak'] = array.shape[1] - 1\n",
    "    \n",
    "    if radius:\n",
    "        origin = (0.5, 0.5, 0.5)\n",
    "        radius = ((array[:,0] - origin[0])**2 + (array[:,1] - origin[1])**2 + (array[:,2] - origin[2])**2) ** 0.5\n",
    "        array = np.column_stack((array, radius))\n",
    "        axis_label['radius'] = array.shape[1] - 1\n",
    "        \n",
    "    return array, axis_label"
   ]
  },
  {
   "cell_type": "code",
   "execution_count": 5,
   "id": "0931e135-50f6-4332-a83c-c17bb37322ca",
   "metadata": {},
   "outputs": [],
   "source": [
    "data, axis_label = fillData(data_, normMax = True, normAlPeak = True, radius = True)"
   ]
  },
  {
   "cell_type": "code",
   "execution_count": 6,
   "id": "620e6ba7-c254-4342-a6f9-df11f0651a07",
   "metadata": {},
   "outputs": [],
   "source": [
    "from numpy.lib.stride_tricks import sliding_window_view\n",
    "\n",
    "def moving_average(array, n=3):\n",
    "    array = np.concatenate((np.zeros(shape = (n - 1)), array), axis = 0)\n",
    "    ret = sliding_window_view(array, n)#[:-n]\n",
    "    return ret\n",
    "\n",
    "def scale_factor(array, axis_label, bins = 1000, N = 3):\n",
    "    hist_r, bins_r = np.histogram(array[:, axis_label['radius']], bins = bins)\n",
    "    bin_in_r = np.digitize(array[:, axis_label['radius']], bins_r, right=False)\n",
    "    \n",
    "    index = 1 + np.linspace(0, bins - 1, bins)\n",
    "    # rolling mean along last axis\n",
    "    window = moving_average(hist_r, N)\n",
    "    mean = np.max(window, axis=1) - np.min(window, axis=1)\n",
    "\n",
    "    # rolling var/std along last axis\n",
    "    std = np.max(np.gradient(moving_average(hist_r, N), axis=1), axis = 1)\n",
    "    std[std < 1.] = 1\n",
    "    #r = (hist_r.max() - mean)*mean\n",
    "    r = mean/index\n",
    "    \n",
    "    diff = std\n",
    "    print(bin_in_r)\n",
    "    print('max(hist_r): {0}, max(std): {1}'.format(hist_r.max(), std.max()))\n",
    "    # if ratio < 80.:\n",
    "    #diff = diff/hist_r.max()\n",
    "    diff = diff*r\n",
    "    # else:\n",
    "    # diff = diff/diff.max()\n",
    "    \n",
    "    s = float(hist_r.max()/diff.max())\n",
    "    print('ratio of maxes: ', float(hist_r.max()/diff.max()))\n",
    "    print('max(diff): ', diff.max())\n",
    "    mask = diff >= diff.mean()\n",
    "    diff[mask] = diff.max()*diff[mask]/mean[mask]\n",
    "    if diff.max() > 1.:\n",
    "        diff = diff/diff.max()\n",
    "        \n",
    "    total_SF = diff[bin_in_r - 2]\n",
    "\n",
    "    array = np.column_stack((array, total_SF))\n",
    "    axis_label['scale_factor'] = array.shape[1] - 1\n",
    "    return array, diff, hist_r, mean, std"
   ]
  },
  {
   "cell_type": "code",
   "execution_count": 7,
   "id": "a9a83370-a4b4-4b53-9974-290618d4fdd2",
   "metadata": {},
   "outputs": [
    {
     "name": "stdout",
     "output_type": "stream",
     "text": [
      "Axis 5 cut (1.5, 9999999.0)\n",
      "[1972 1980 1928 ...    4    9   15]\n",
      "max(hist_r): 11539, max(std): 2104.0\n",
      "ratio of maxes:  0.3516881644087204\n",
      "max(diff):  32810.31654676259\n"
     ]
    }
   ],
   "source": [
    "cut_dict = {\n",
    "    'isNew': {str(axis_label['normAlPeak']): (1.5, 9999999.)},\n",
    "}\n",
    "\n",
    "sliced_data = data\n",
    "for k, v in cut_dict[which_cut].items():\n",
    "    print('Axis {0} cut {1}'.format(k, v))\n",
    "    sliced_data = slice_data(sliced_data, v, axis = int(k))\n",
    "    \n",
    "sliced_data, sf, hist_r, mean, std = scale_factor(sliced_data, axis_label, bins = 2000, N = 15)"
   ]
  },
  {
   "cell_type": "code",
   "execution_count": 8,
   "id": "b7a8aae9-ca34-4242-97ab-c28fc9f1184b",
   "metadata": {},
   "outputs": [],
   "source": [
    "arrays = np.stack((sf, hist_r[:]/hist_r.max()), axis = 0)"
   ]
  },
  {
   "cell_type": "code",
   "execution_count": 9,
   "id": "70a571b3-646b-411d-a4ec-99bf905003e8",
   "metadata": {},
   "outputs": [
    {
     "data": {
      "image/png": "[encoded data removed]",
      "text/plain": [
       "<Figure size 640x480 with 1 Axes>"
      ]
     },
     "metadata": {},
     "output_type": "display_data"
    }
   ],
   "source": [
    "crange = slice(0, 2000)\n",
    "plt.figure()\n",
    "plt.plot(sf[crange], label='Scale Factor')\n",
    "plt.plot(hist_r[crange]/hist_r.max(), label='Number of Voxels')\n",
    "plt.xlabel('Integrated number of bins from Center')\n",
    "plt.ylabel('Normalized Units')\n",
    "\n",
    "plt.legend()\n",
    "plt.savefig(os.path.join(sample, which_cut, 'scale_factor.png'))\n",
    "plt.show()"
   ]
  },
  {
   "cell_type": "code",
   "execution_count": 10,
   "id": "575dd98b-b68f-4d40-9844-6503fe490d86",
   "metadata": {},
   "outputs": [
    {
     "name": "stdout",
     "output_type": "stream",
     "text": [
      "Estimated number of clusters: 162\n",
      "Estimated number of noise points: 5701342\n"
     ]
    }
   ],
   "source": [
    "if isNew:\n",
    "    db = DBSCAN(eps=0.004, \n",
    "                min_samples=10, \n",
    "                p = 1).fit(sliced_data[:,:3], \n",
    "                           sample_weight=sliced_data[:,axis_label['scale_factor']]/sliced_data[:,axis_label['scale_factor']].max())\n",
    "else:\n",
    "    db = DBSCAN(eps=0.0035, min_samples=50).fit(sliced_data[:,:3])\n",
    "\n",
    "labels = db.labels_\n",
    "\n",
    "# Number of clusters in labels, ignoring noise if present.\n",
    "n_clusters_ = len(set(labels)) - (1 if -1 in labels else 0)\n",
    "n_noise_ = list(labels).count(-1)\n",
    "\n",
    "print(\"Estimated number of clusters: %d\" % n_clusters_)\n",
    "print(\"Estimated number of noise points: %d\" % n_noise_)"
   ]
  },
  {
   "cell_type": "code",
   "execution_count": 11,
   "id": "8f19014b-759d-4b39-af92-48149800c7df",
   "metadata": {},
   "outputs": [
    {
     "name": "stdout",
     "output_type": "stream",
     "text": [
      "(6281145, 10) {'x': 0, 'y': 1, 'z': 2, 'weight': 3, 'normMax': 4, 'normAlPeak': 5, 'radius': 6, 'scale_factor': 7, 'labels': 8, 'isCluster': 9}\n"
     ]
    }
   ],
   "source": [
    "labels_slimmed = np.array(labels)\n",
    "isCluster = labels_slimmed != -1\n",
    "c = np.column_stack((sliced_data, labels_slimmed, isCluster))\n",
    "axis_label['labels'] = c.shape[1] - 2\n",
    "axis_label['isCluster'] = c.shape[1] - 1\n",
    "print(c.shape, axis_label)"
   ]
  },
  {
   "cell_type": "code",
   "execution_count": 12,
   "id": "e8a00adb-9620-4751-9faf-0f3d9040688d",
   "metadata": {},
   "outputs": [
    {
     "name": "stdout",
     "output_type": "stream",
     "text": [
      "(579803, 10)\n"
     ]
    }
   ],
   "source": [
    "mask = c[:,axis_label['labels']] >= 0\n",
    "c = c[mask,:]\n",
    "print(c.shape)\n",
    "\n",
    "pca_in = c"
   ]
  },
  {
   "cell_type": "code",
   "execution_count": 13,
   "id": "325f876d-9aa0-413a-a847-03d2ebc8590f",
   "metadata": {},
   "outputs": [],
   "source": [
    "# import matplotlib as mpl\n",
    "# viridis = mpl.cm.get_cmap('viridis')\n",
    "# plt.figure()\n",
    "# plt.scatter(c[:,axis_label['radius']], c[:,axis_label['normAlPeak']], s = 2.5, c = viridis(c[:,axis_label['scale_factor']]))\n",
    "# plt.yscale('log')\n",
    "# plt.colorbar()\n",
    "# plt.savefig(os.path.join(sample, which_cut, 'intensity_vs_radius.png'))\n",
    "# plt.show()"
   ]
  },
  {
   "cell_type": "code",
   "execution_count": 14,
   "id": "43d11a58-d84b-43b5-beba-015fee6d403e",
   "metadata": {},
   "outputs": [],
   "source": [
    "from sklearn.decomposition import PCA\n",
    "dim = 1\n",
    "pca_latent_space = PCA(n_components=dim,\n",
    "                       svd_solver='arpack')\n",
    "pca_out = pca_latent_space.fit_transform(np.column_stack((\n",
    "                                                          pca_in[:,axis_label['radius']],\n",
    "                                                          pca_in[:,axis_label['normMax']],\n",
    "                                                          pca_in[:,axis_label['scale_factor']]/c[:,axis_label['scale_factor']].max(),\n",
    "                                                          pca_in[:,axis_label['x']],\n",
    "                                                          pca_in[:,axis_label['y']], \n",
    "                                                          pca_in[:,axis_label['z']],\n",
    "                                                          # pca_in[:,axis_label['p']], \n",
    "                                                          # pca_in[:,axis_label['se']], \n",
    "                                                         )))\n",
    "\n",
    "c = np.column_stack((c, pca_out[:,:]))\n",
    "axis_label['pca2'] = c.shape[1] - 2\n",
    "axis_label['pca1'] = c.shape[1] - 1"
   ]
  },
  {
   "cell_type": "code",
   "execution_count": 15,
   "id": "9c60bc99-a99c-4684-9702-6aeb76bfe9c5",
   "metadata": {},
   "outputs": [
    {
     "data": {
      "text/plain": [
       "(579803, 1)"
      ]
     },
     "execution_count": 15,
     "metadata": {},
     "output_type": "execute_result"
    }
   ],
   "source": [
    "pca_out.shape"
   ]
  },
  {
   "cell_type": "code",
   "execution_count": null,
   "id": "d5ca8c20-f94e-4bf7-80a9-7098a1684560",
   "metadata": {},
   "outputs": [
    {
     "name": "stderr",
     "output_type": "stream",
     "text": [
      "/tmp/ipykernel_8942/1358716174.py:2: MatplotlibDeprecationWarning: The get_cmap function was deprecated in Matplotlib 3.7 and will be removed two minor releases later. Use ``matplotlib.colormaps[name]`` or ``matplotlib.colormaps.get_cmap(obj)`` instead.\n",
      "  viridis = mpl.cm.get_cmap('viridis')\n",
      "No artists with labels found to put in legend.  Note that artists whose label start with an underscore are ignored when legend() is called with no argument.\n"
     ]
    }
   ],
   "source": [
    "import matplotlib as mpl\n",
    "viridis = mpl.cm.get_cmap('viridis')\n",
    "plt.figure()\n",
    "if dim == 1:\n",
    "    plt.scatter(pca_in[:,axis_label['radius']], pca_out[:,0], s = 2.5, c = viridis(c[:,axis_label['scale_factor']]/c[:,axis_label['scale_factor']].max()))\n",
    "elif dim == 2:\n",
    "    plt.scatter(pca_out[:,0], pca_out[:,1], s = 2.5, c = viridis(c[:,axis_label['scale_factor']]/c[:,axis_label['scale_factor']].max()))\n",
    "plt.colorbar()\n",
    "plt.yscale('log')\n",
    "plt.legend(title=\"PCA \" + samples[sample][0])\n",
    "plt.savefig(os.path.join(sample, which_cut, 'pca_' + str(dim) + 'D.png'))\n",
    "plt.show()"
   ]
  },
  {
   "cell_type": "code",
   "execution_count": null,
   "id": "6ac590c1-b917-4223-8347-d0001aec2e81",
   "metadata": {},
   "outputs": [],
   "source": [
    "isPCA = True\n",
    "mask = pca_out[:,0] >= 0.07\n",
    "suffix = '_PCAgt2' if isPCA else '_noPCAcut'\n",
    "test = c[mask, :] if isPCA else c[:,:]\n",
    "print(test.shape)"
   ]
  },
  {
   "cell_type": "code",
   "execution_count": null,
   "id": "be0f021c-da30-449d-b46d-9e4680f57d78",
   "metadata": {},
   "outputs": [],
   "source": [
    "import matplotlib as mpl\n",
    "viridis = mpl.cm.get_cmap('viridis')\n",
    "def plot_scatter(d, xname, yname, log = False, color = 'labels', suffix = ''):\n",
    "    plt.figure()\n",
    "    if log:\n",
    "        plt.scatter(d[:,axis_label[xname]], np.log(d[:,axis_label[yname]]), s = 2.5, c = viridis(d[:,axis_label[color]]/d[:,axis_label[color]].max()))\n",
    "    else:\n",
    "        plt.scatter(d[:,axis_label[xname]], d[:,axis_label[yname]], s = 2.5, c = viridis(d[:,axis_label[color]]/d[:,axis_label[color]].max()))\n",
    "    plt.colorbar()\n",
    "    plt.legend(title=samples[sample][0])\n",
    "    plt.xlabel(xname)\n",
    "    plt.ylabel(yname)\n",
    "    plt.savefig(os.path.join(sample, which_cut, xname + '_vs_' + yname + suffix + '.png'))\n",
    "    plt.show()"
   ]
  },
  {
   "cell_type": "code",
   "execution_count": null,
   "id": "a3b0d281-2578-4a68-92ed-5a905e6fb02d",
   "metadata": {},
   "outputs": [],
   "source": [
    "import plotly.express as px\n",
    "import plotly.graph_objects as go\n",
    "#c = sliced_data\n",
    "\n",
    "N_color = (0, labels_slimmed.max())\n",
    "#mask = np.logical_or(test[:,axis_label['slopes']] <= -20, test[:,axis_label['slopes']] > 20.)\n",
    "mask = np.logical_and(test[:,axis_label['labels']] <= N_color[1], test[:,axis_label['labels']] > N_color[0])\n",
    "#mask = test[:,axis_label['pca']] <= 25.\n",
    "print(test.shape)\n",
    "\n",
    "diff = N_color[1] - N_color[0]\n",
    "\n",
    "plot_scatter(test[mask,:], 'radius', 'normAlPeak', log = True, color = 'scale_factor', suffix = suffix)\n",
    "#plot_scatter(test[mask,:], 'radius', 'slopes', log = False)\n",
    "\n",
    "if test.shape[0] < 500000:\n",
    "    fig = go.Figure(data =[go.Scatter3d(x=test[mask,0],\n",
    "                                         y=test[mask,1],\n",
    "                                         z=test[mask,2],\n",
    "                                         mode='markers',\n",
    "                                         marker=dict(\n",
    "                                             size=1,\n",
    "                                             color=viridis(test[mask,axis_label['scale_factor']]/test[:,axis_label['scale_factor']].max()),\n",
    "                                         )\n",
    "                                       )])\n",
    "    fig.update_layout(\n",
    "        title=samples[sample][0],\n",
    "        scene = dict(xaxis_title='x', yaxis_title='y', zaxis_title='z'),\n",
    "        width=800, height=700, autosize=False,\n",
    "        margin=dict(l=20, r=20, b=20, t=55),\n",
    "    )\n",
    "    fig.show()"
   ]
  },
  {
   "cell_type": "code",
   "execution_count": null,
   "id": "eab3e5e7-41e0-4f88-abfc-54dea942c42f",
   "metadata": {},
   "outputs": [],
   "source": []
  }
 ],
 "metadata": {
  "kernelspec": {
   "display_name": "Mantid Python",
   "language": "python",
   "name": "pymantid"
  },
  "language_info": {
   "codemirror_mode": {
    "name": "ipython",
    "version": 3
   },
   "file_extension": ".py",
   "mimetype": "text/x-python",
   "name": "python",
   "nbconvert_exporter": "python",
   "pygments_lexer": "ipython3",
   "version": "3.9.15"
  }
 },
 "nbformat": 4,
 "nbformat_minor": 5
}
